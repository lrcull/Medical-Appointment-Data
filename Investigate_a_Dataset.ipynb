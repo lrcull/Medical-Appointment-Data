{
 "cells": [
  {
   "cell_type": "markdown",
   "metadata": {},
   "source": [
    "\n",
    "\n",
    "# Project: Analysis of No-Show Medical Appointment Data From Brazil\n",
    "\n",
    "## Table of Contents\n",
    "<ul>\n",
    "<li><a href=\"#intro\">Introduction</a></li>\n",
    "<li><a href=\"#wrangling\">Data Wrangling</a></li>\n",
    "<li><a href=\"#eda\">Exploratory Data Analysis</a></li>\n",
    "<li><a href=\"#conclusions\">Conclusions</a></li>\n",
    "</ul>"
   ]
  },
  {
   "cell_type": "markdown",
   "metadata": {},
   "source": [
    "<a id='intro'></a>\n",
    "## Introduction\n",
    "\n",
    "The data shows the demographics for 110,527 no-show medical applointments. No-show is defined as a person, who has a scheduled appointment, does not show up for that appointment. Data came from Kaggle https://www.kaggle.com/joniarroba/noshowappointments. There are 14 columns in the dataframe. A description of the data is as follows:\n",
    "\n",
    "PatientId - Identification of a patient \n",
    "\n",
    "AppointmentID - Identification of each appointment \n",
    "\n",
    "Gender = Male or Female \n",
    "\n",
    "Appointment Day = The day of the appointment\n",
    "\n",
    "Scheduled Day = The day someone called or registered the appointment, this is before appointment of course\n",
    "\n",
    "Age\n",
    "\n",
    "Neighbourhood = Where the appointment takes place\n",
    "\n",
    "Scholarship = True or False\n",
    "\n",
    "Hypertension (column name = hipertension) = True or False \n",
    "\n",
    "Diabetes = True or False \n",
    "\n",
    "Alcoholism = True or False \n",
    "\n",
    "Handicap (column name = Handcap) = True or False \n",
    "\n",
    "SMS_received = 1 or more messages sent to the patient\n",
    "\n",
    "No-show = True or False\n",
    "> "
   ]
  },
  {
   "cell_type": "code",
   "execution_count": 4,
   "metadata": {},
   "outputs": [],
   "source": [
    "##Import numpy, pandas, matplotlib\n",
    "\n",
    "import numpy as np\n",
    "import pandas as pd\n",
    "import matplotlib.pyplot as plt\n",
    "% matplotlib inline"
   ]
  },
  {
   "cell_type": "markdown",
   "metadata": {},
   "source": [
    "<a id='wrangling'></a>\n",
    "## Data Wrangling\n",
    "\n",
    "\n",
    "\n",
    "### General Properties"
   ]
  },
  {
   "cell_type": "markdown",
   "metadata": {},
   "source": [
    "Load the data from the Kaggle website. Take an initial look at the information contained in the dataframe."
   ]
  },
  {
   "cell_type": "code",
   "execution_count": 5,
   "metadata": {},
   "outputs": [
    {
     "data": {
      "text/html": [
       "<div>\n",
       "<style>\n",
       "    .dataframe thead tr:only-child th {\n",
       "        text-align: right;\n",
       "    }\n",
       "\n",
       "    .dataframe thead th {\n",
       "        text-align: left;\n",
       "    }\n",
       "\n",
       "    .dataframe tbody tr th {\n",
       "        vertical-align: top;\n",
       "    }\n",
       "</style>\n",
       "<table border=\"1\" class=\"dataframe\">\n",
       "  <thead>\n",
       "    <tr style=\"text-align: right;\">\n",
       "      <th></th>\n",
       "      <th>PatientId</th>\n",
       "      <th>AppointmentID</th>\n",
       "      <th>Gender</th>\n",
       "      <th>ScheduledDay</th>\n",
       "      <th>AppointmentDay</th>\n",
       "      <th>Age</th>\n",
       "      <th>Neighbourhood</th>\n",
       "      <th>Scholarship</th>\n",
       "      <th>Hipertension</th>\n",
       "      <th>Diabetes</th>\n",
       "      <th>Alcoholism</th>\n",
       "      <th>Handcap</th>\n",
       "      <th>SMS_received</th>\n",
       "      <th>No-show</th>\n",
       "    </tr>\n",
       "  </thead>\n",
       "  <tbody>\n",
       "    <tr>\n",
       "      <th>0</th>\n",
       "      <td>2.987250e+13</td>\n",
       "      <td>5642903</td>\n",
       "      <td>F</td>\n",
       "      <td>2016-04-29T18:38:08Z</td>\n",
       "      <td>2016-04-29T00:00:00Z</td>\n",
       "      <td>62</td>\n",
       "      <td>JARDIM DA PENHA</td>\n",
       "      <td>0</td>\n",
       "      <td>1</td>\n",
       "      <td>0</td>\n",
       "      <td>0</td>\n",
       "      <td>0</td>\n",
       "      <td>0</td>\n",
       "      <td>No</td>\n",
       "    </tr>\n",
       "    <tr>\n",
       "      <th>1</th>\n",
       "      <td>5.589980e+14</td>\n",
       "      <td>5642503</td>\n",
       "      <td>M</td>\n",
       "      <td>2016-04-29T16:08:27Z</td>\n",
       "      <td>2016-04-29T00:00:00Z</td>\n",
       "      <td>56</td>\n",
       "      <td>JARDIM DA PENHA</td>\n",
       "      <td>0</td>\n",
       "      <td>0</td>\n",
       "      <td>0</td>\n",
       "      <td>0</td>\n",
       "      <td>0</td>\n",
       "      <td>0</td>\n",
       "      <td>No</td>\n",
       "    </tr>\n",
       "    <tr>\n",
       "      <th>2</th>\n",
       "      <td>4.262960e+12</td>\n",
       "      <td>5642549</td>\n",
       "      <td>F</td>\n",
       "      <td>2016-04-29T16:19:04Z</td>\n",
       "      <td>2016-04-29T00:00:00Z</td>\n",
       "      <td>62</td>\n",
       "      <td>MATA DA PRAIA</td>\n",
       "      <td>0</td>\n",
       "      <td>0</td>\n",
       "      <td>0</td>\n",
       "      <td>0</td>\n",
       "      <td>0</td>\n",
       "      <td>0</td>\n",
       "      <td>No</td>\n",
       "    </tr>\n",
       "    <tr>\n",
       "      <th>3</th>\n",
       "      <td>8.679510e+11</td>\n",
       "      <td>5642828</td>\n",
       "      <td>F</td>\n",
       "      <td>2016-04-29T17:29:31Z</td>\n",
       "      <td>2016-04-29T00:00:00Z</td>\n",
       "      <td>8</td>\n",
       "      <td>PONTAL DE CAMBURI</td>\n",
       "      <td>0</td>\n",
       "      <td>0</td>\n",
       "      <td>0</td>\n",
       "      <td>0</td>\n",
       "      <td>0</td>\n",
       "      <td>0</td>\n",
       "      <td>No</td>\n",
       "    </tr>\n",
       "    <tr>\n",
       "      <th>4</th>\n",
       "      <td>8.841190e+12</td>\n",
       "      <td>5642494</td>\n",
       "      <td>F</td>\n",
       "      <td>2016-04-29T16:07:23Z</td>\n",
       "      <td>2016-04-29T00:00:00Z</td>\n",
       "      <td>56</td>\n",
       "      <td>JARDIM DA PENHA</td>\n",
       "      <td>0</td>\n",
       "      <td>1</td>\n",
       "      <td>1</td>\n",
       "      <td>0</td>\n",
       "      <td>0</td>\n",
       "      <td>0</td>\n",
       "      <td>No</td>\n",
       "    </tr>\n",
       "  </tbody>\n",
       "</table>\n",
       "</div>"
      ],
      "text/plain": [
       "      PatientId  AppointmentID Gender          ScheduledDay  \\\n",
       "0  2.987250e+13        5642903      F  2016-04-29T18:38:08Z   \n",
       "1  5.589980e+14        5642503      M  2016-04-29T16:08:27Z   \n",
       "2  4.262960e+12        5642549      F  2016-04-29T16:19:04Z   \n",
       "3  8.679510e+11        5642828      F  2016-04-29T17:29:31Z   \n",
       "4  8.841190e+12        5642494      F  2016-04-29T16:07:23Z   \n",
       "\n",
       "         AppointmentDay  Age      Neighbourhood  Scholarship  Hipertension  \\\n",
       "0  2016-04-29T00:00:00Z   62    JARDIM DA PENHA            0             1   \n",
       "1  2016-04-29T00:00:00Z   56    JARDIM DA PENHA            0             0   \n",
       "2  2016-04-29T00:00:00Z   62      MATA DA PRAIA            0             0   \n",
       "3  2016-04-29T00:00:00Z    8  PONTAL DE CAMBURI            0             0   \n",
       "4  2016-04-29T00:00:00Z   56    JARDIM DA PENHA            0             1   \n",
       "\n",
       "   Diabetes  Alcoholism  Handcap  SMS_received No-show  \n",
       "0         0           0        0             0      No  \n",
       "1         0           0        0             0      No  \n",
       "2         0           0        0             0      No  \n",
       "3         0           0        0             0      No  \n",
       "4         1           0        0             0      No  "
      ]
     },
     "execution_count": 5,
     "metadata": {},
     "output_type": "execute_result"
    }
   ],
   "source": [
    "df = pd.read_csv('Appointment Data.csv')\n",
    "df.head(5)"
   ]
  },
  {
   "cell_type": "markdown",
   "metadata": {},
   "source": [
    "Further analysis on the dataframe indicates that there are 110527 rows of data with no null values. A statistical description of the data gives an overview. Initial inspection shows that the maximum age of all patients is 115. "
   ]
  },
  {
   "cell_type": "code",
   "execution_count": 6,
   "metadata": {
    "scrolled": true
   },
   "outputs": [
    {
     "data": {
      "text/plain": [
       "(110527, 14)"
      ]
     },
     "execution_count": 6,
     "metadata": {},
     "output_type": "execute_result"
    }
   ],
   "source": [
    "df.shape"
   ]
  },
  {
   "cell_type": "code",
   "execution_count": 7,
   "metadata": {},
   "outputs": [
    {
     "data": {
      "text/html": [
       "<div>\n",
       "<style>\n",
       "    .dataframe thead tr:only-child th {\n",
       "        text-align: right;\n",
       "    }\n",
       "\n",
       "    .dataframe thead th {\n",
       "        text-align: left;\n",
       "    }\n",
       "\n",
       "    .dataframe tbody tr th {\n",
       "        vertical-align: top;\n",
       "    }\n",
       "</style>\n",
       "<table border=\"1\" class=\"dataframe\">\n",
       "  <thead>\n",
       "    <tr style=\"text-align: right;\">\n",
       "      <th></th>\n",
       "      <th>PatientId</th>\n",
       "      <th>AppointmentID</th>\n",
       "      <th>Age</th>\n",
       "      <th>Scholarship</th>\n",
       "      <th>Hipertension</th>\n",
       "      <th>Diabetes</th>\n",
       "      <th>Alcoholism</th>\n",
       "      <th>Handcap</th>\n",
       "      <th>SMS_received</th>\n",
       "    </tr>\n",
       "  </thead>\n",
       "  <tbody>\n",
       "    <tr>\n",
       "      <th>count</th>\n",
       "      <td>1.105270e+05</td>\n",
       "      <td>1.105270e+05</td>\n",
       "      <td>110527.000000</td>\n",
       "      <td>110527.000000</td>\n",
       "      <td>110527.000000</td>\n",
       "      <td>110527.000000</td>\n",
       "      <td>110527.000000</td>\n",
       "      <td>110527.000000</td>\n",
       "      <td>110527.000000</td>\n",
       "    </tr>\n",
       "    <tr>\n",
       "      <th>mean</th>\n",
       "      <td>1.474963e+14</td>\n",
       "      <td>5.675305e+06</td>\n",
       "      <td>37.088874</td>\n",
       "      <td>0.098266</td>\n",
       "      <td>0.197246</td>\n",
       "      <td>0.071865</td>\n",
       "      <td>0.030400</td>\n",
       "      <td>0.022248</td>\n",
       "      <td>0.321026</td>\n",
       "    </tr>\n",
       "    <tr>\n",
       "      <th>std</th>\n",
       "      <td>2.560949e+14</td>\n",
       "      <td>7.129575e+04</td>\n",
       "      <td>23.110205</td>\n",
       "      <td>0.297675</td>\n",
       "      <td>0.397921</td>\n",
       "      <td>0.258265</td>\n",
       "      <td>0.171686</td>\n",
       "      <td>0.161543</td>\n",
       "      <td>0.466873</td>\n",
       "    </tr>\n",
       "    <tr>\n",
       "      <th>min</th>\n",
       "      <td>3.920000e+04</td>\n",
       "      <td>5.030230e+06</td>\n",
       "      <td>-1.000000</td>\n",
       "      <td>0.000000</td>\n",
       "      <td>0.000000</td>\n",
       "      <td>0.000000</td>\n",
       "      <td>0.000000</td>\n",
       "      <td>0.000000</td>\n",
       "      <td>0.000000</td>\n",
       "    </tr>\n",
       "    <tr>\n",
       "      <th>25%</th>\n",
       "      <td>4.172615e+12</td>\n",
       "      <td>5.640286e+06</td>\n",
       "      <td>18.000000</td>\n",
       "      <td>0.000000</td>\n",
       "      <td>0.000000</td>\n",
       "      <td>0.000000</td>\n",
       "      <td>0.000000</td>\n",
       "      <td>0.000000</td>\n",
       "      <td>0.000000</td>\n",
       "    </tr>\n",
       "    <tr>\n",
       "      <th>50%</th>\n",
       "      <td>3.173180e+13</td>\n",
       "      <td>5.680573e+06</td>\n",
       "      <td>37.000000</td>\n",
       "      <td>0.000000</td>\n",
       "      <td>0.000000</td>\n",
       "      <td>0.000000</td>\n",
       "      <td>0.000000</td>\n",
       "      <td>0.000000</td>\n",
       "      <td>0.000000</td>\n",
       "    </tr>\n",
       "    <tr>\n",
       "      <th>75%</th>\n",
       "      <td>9.439170e+13</td>\n",
       "      <td>5.725524e+06</td>\n",
       "      <td>55.000000</td>\n",
       "      <td>0.000000</td>\n",
       "      <td>0.000000</td>\n",
       "      <td>0.000000</td>\n",
       "      <td>0.000000</td>\n",
       "      <td>0.000000</td>\n",
       "      <td>1.000000</td>\n",
       "    </tr>\n",
       "    <tr>\n",
       "      <th>max</th>\n",
       "      <td>9.999820e+14</td>\n",
       "      <td>5.790484e+06</td>\n",
       "      <td>115.000000</td>\n",
       "      <td>1.000000</td>\n",
       "      <td>1.000000</td>\n",
       "      <td>1.000000</td>\n",
       "      <td>1.000000</td>\n",
       "      <td>4.000000</td>\n",
       "      <td>1.000000</td>\n",
       "    </tr>\n",
       "  </tbody>\n",
       "</table>\n",
       "</div>"
      ],
      "text/plain": [
       "          PatientId  AppointmentID            Age    Scholarship  \\\n",
       "count  1.105270e+05   1.105270e+05  110527.000000  110527.000000   \n",
       "mean   1.474963e+14   5.675305e+06      37.088874       0.098266   \n",
       "std    2.560949e+14   7.129575e+04      23.110205       0.297675   \n",
       "min    3.920000e+04   5.030230e+06      -1.000000       0.000000   \n",
       "25%    4.172615e+12   5.640286e+06      18.000000       0.000000   \n",
       "50%    3.173180e+13   5.680573e+06      37.000000       0.000000   \n",
       "75%    9.439170e+13   5.725524e+06      55.000000       0.000000   \n",
       "max    9.999820e+14   5.790484e+06     115.000000       1.000000   \n",
       "\n",
       "        Hipertension       Diabetes     Alcoholism        Handcap  \\\n",
       "count  110527.000000  110527.000000  110527.000000  110527.000000   \n",
       "mean        0.197246       0.071865       0.030400       0.022248   \n",
       "std         0.397921       0.258265       0.171686       0.161543   \n",
       "min         0.000000       0.000000       0.000000       0.000000   \n",
       "25%         0.000000       0.000000       0.000000       0.000000   \n",
       "50%         0.000000       0.000000       0.000000       0.000000   \n",
       "75%         0.000000       0.000000       0.000000       0.000000   \n",
       "max         1.000000       1.000000       1.000000       4.000000   \n",
       "\n",
       "        SMS_received  \n",
       "count  110527.000000  \n",
       "mean        0.321026  \n",
       "std         0.466873  \n",
       "min         0.000000  \n",
       "25%         0.000000  \n",
       "50%         0.000000  \n",
       "75%         1.000000  \n",
       "max         1.000000  "
      ]
     },
     "execution_count": 7,
     "metadata": {},
     "output_type": "execute_result"
    }
   ],
   "source": [
    "df.describe()"
   ]
  },
  {
   "cell_type": "code",
   "execution_count": 8,
   "metadata": {},
   "outputs": [
    {
     "name": "stdout",
     "output_type": "stream",
     "text": [
      "<class 'pandas.core.frame.DataFrame'>\n",
      "RangeIndex: 110527 entries, 0 to 110526\n",
      "Data columns (total 14 columns):\n",
      "PatientId         110527 non-null float64\n",
      "AppointmentID     110527 non-null int64\n",
      "Gender            110527 non-null object\n",
      "ScheduledDay      110527 non-null object\n",
      "AppointmentDay    110527 non-null object\n",
      "Age               110527 non-null int64\n",
      "Neighbourhood     110527 non-null object\n",
      "Scholarship       110527 non-null int64\n",
      "Hipertension      110527 non-null int64\n",
      "Diabetes          110527 non-null int64\n",
      "Alcoholism        110527 non-null int64\n",
      "Handcap           110527 non-null int64\n",
      "SMS_received      110527 non-null int64\n",
      "No-show           110527 non-null object\n",
      "dtypes: float64(1), int64(8), object(5)\n",
      "memory usage: 11.8+ MB\n"
     ]
    }
   ],
   "source": [
    "df.info()"
   ]
  },
  {
   "cell_type": "markdown",
   "metadata": {},
   "source": [
    "There are 14 columns included in the dataframe. Of those, PatientID, AppointmentID, and ScheduledDay are unlikely to yield insight into why patients skip healthcare appointments or to explain how to increase compliance in showing up for appointments. Remove these columns."
   ]
  },
  {
   "cell_type": "code",
   "execution_count": 9,
   "metadata": {
    "scrolled": true
   },
   "outputs": [],
   "source": [
    "df.drop(['PatientId', 'AppointmentID', 'ScheduledDay'], axis = 1, inplace = True)"
   ]
  },
  {
   "cell_type": "code",
   "execution_count": 10,
   "metadata": {},
   "outputs": [
    {
     "data": {
      "text/html": [
       "<div>\n",
       "<style>\n",
       "    .dataframe thead tr:only-child th {\n",
       "        text-align: right;\n",
       "    }\n",
       "\n",
       "    .dataframe thead th {\n",
       "        text-align: left;\n",
       "    }\n",
       "\n",
       "    .dataframe tbody tr th {\n",
       "        vertical-align: top;\n",
       "    }\n",
       "</style>\n",
       "<table border=\"1\" class=\"dataframe\">\n",
       "  <thead>\n",
       "    <tr style=\"text-align: right;\">\n",
       "      <th></th>\n",
       "      <th>Gender</th>\n",
       "      <th>AppointmentDay</th>\n",
       "      <th>Age</th>\n",
       "      <th>Neighbourhood</th>\n",
       "      <th>Scholarship</th>\n",
       "      <th>Hipertension</th>\n",
       "      <th>Diabetes</th>\n",
       "      <th>Alcoholism</th>\n",
       "      <th>Handcap</th>\n",
       "      <th>SMS_received</th>\n",
       "      <th>No-show</th>\n",
       "    </tr>\n",
       "  </thead>\n",
       "  <tbody>\n",
       "    <tr>\n",
       "      <th>0</th>\n",
       "      <td>F</td>\n",
       "      <td>2016-04-29T00:00:00Z</td>\n",
       "      <td>62</td>\n",
       "      <td>JARDIM DA PENHA</td>\n",
       "      <td>0</td>\n",
       "      <td>1</td>\n",
       "      <td>0</td>\n",
       "      <td>0</td>\n",
       "      <td>0</td>\n",
       "      <td>0</td>\n",
       "      <td>No</td>\n",
       "    </tr>\n",
       "    <tr>\n",
       "      <th>1</th>\n",
       "      <td>M</td>\n",
       "      <td>2016-04-29T00:00:00Z</td>\n",
       "      <td>56</td>\n",
       "      <td>JARDIM DA PENHA</td>\n",
       "      <td>0</td>\n",
       "      <td>0</td>\n",
       "      <td>0</td>\n",
       "      <td>0</td>\n",
       "      <td>0</td>\n",
       "      <td>0</td>\n",
       "      <td>No</td>\n",
       "    </tr>\n",
       "    <tr>\n",
       "      <th>2</th>\n",
       "      <td>F</td>\n",
       "      <td>2016-04-29T00:00:00Z</td>\n",
       "      <td>62</td>\n",
       "      <td>MATA DA PRAIA</td>\n",
       "      <td>0</td>\n",
       "      <td>0</td>\n",
       "      <td>0</td>\n",
       "      <td>0</td>\n",
       "      <td>0</td>\n",
       "      <td>0</td>\n",
       "      <td>No</td>\n",
       "    </tr>\n",
       "    <tr>\n",
       "      <th>3</th>\n",
       "      <td>F</td>\n",
       "      <td>2016-04-29T00:00:00Z</td>\n",
       "      <td>8</td>\n",
       "      <td>PONTAL DE CAMBURI</td>\n",
       "      <td>0</td>\n",
       "      <td>0</td>\n",
       "      <td>0</td>\n",
       "      <td>0</td>\n",
       "      <td>0</td>\n",
       "      <td>0</td>\n",
       "      <td>No</td>\n",
       "    </tr>\n",
       "    <tr>\n",
       "      <th>4</th>\n",
       "      <td>F</td>\n",
       "      <td>2016-04-29T00:00:00Z</td>\n",
       "      <td>56</td>\n",
       "      <td>JARDIM DA PENHA</td>\n",
       "      <td>0</td>\n",
       "      <td>1</td>\n",
       "      <td>1</td>\n",
       "      <td>0</td>\n",
       "      <td>0</td>\n",
       "      <td>0</td>\n",
       "      <td>No</td>\n",
       "    </tr>\n",
       "  </tbody>\n",
       "</table>\n",
       "</div>"
      ],
      "text/plain": [
       "  Gender        AppointmentDay  Age      Neighbourhood  Scholarship  \\\n",
       "0      F  2016-04-29T00:00:00Z   62    JARDIM DA PENHA            0   \n",
       "1      M  2016-04-29T00:00:00Z   56    JARDIM DA PENHA            0   \n",
       "2      F  2016-04-29T00:00:00Z   62      MATA DA PRAIA            0   \n",
       "3      F  2016-04-29T00:00:00Z    8  PONTAL DE CAMBURI            0   \n",
       "4      F  2016-04-29T00:00:00Z   56    JARDIM DA PENHA            0   \n",
       "\n",
       "   Hipertension  Diabetes  Alcoholism  Handcap  SMS_received No-show  \n",
       "0             1         0           0        0             0      No  \n",
       "1             0         0           0        0             0      No  \n",
       "2             0         0           0        0             0      No  \n",
       "3             0         0           0        0             0      No  \n",
       "4             1         1           0        0             0      No  "
      ]
     },
     "execution_count": 10,
     "metadata": {},
     "output_type": "execute_result"
    }
   ],
   "source": [
    "df.head(5)"
   ]
  },
  {
   "cell_type": "markdown",
   "metadata": {},
   "source": [
    "\n",
    "### Data Cleaning: Making the Data Easier to Analyze"
   ]
  },
  {
   "cell_type": "markdown",
   "metadata": {},
   "source": [
    "Change text data to numerical data and extract the month and day of week from the appointment date to form two new columns."
   ]
  },
  {
   "cell_type": "code",
   "execution_count": 11,
   "metadata": {},
   "outputs": [],
   "source": [
    "import datetime as dt"
   ]
  },
  {
   "cell_type": "code",
   "execution_count": 12,
   "metadata": {},
   "outputs": [],
   "source": [
    " df['AppointmentDay'] = pd.to_datetime(df['AppointmentDay'])\n",
    " df['Month'] = df['AppointmentDay'].dt.month\n",
    " df['WeekDay'] = df['AppointmentDay'].dt.weekday\n",
    " "
   ]
  },
  {
   "cell_type": "code",
   "execution_count": 13,
   "metadata": {},
   "outputs": [
    {
     "data": {
      "text/html": [
       "<div>\n",
       "<style>\n",
       "    .dataframe thead tr:only-child th {\n",
       "        text-align: right;\n",
       "    }\n",
       "\n",
       "    .dataframe thead th {\n",
       "        text-align: left;\n",
       "    }\n",
       "\n",
       "    .dataframe tbody tr th {\n",
       "        vertical-align: top;\n",
       "    }\n",
       "</style>\n",
       "<table border=\"1\" class=\"dataframe\">\n",
       "  <thead>\n",
       "    <tr style=\"text-align: right;\">\n",
       "      <th></th>\n",
       "      <th>Gender</th>\n",
       "      <th>AppointmentDay</th>\n",
       "      <th>Age</th>\n",
       "      <th>Neighbourhood</th>\n",
       "      <th>Scholarship</th>\n",
       "      <th>Hipertension</th>\n",
       "      <th>Diabetes</th>\n",
       "      <th>Alcoholism</th>\n",
       "      <th>Handcap</th>\n",
       "      <th>SMS_received</th>\n",
       "      <th>No_show</th>\n",
       "      <th>Month</th>\n",
       "      <th>WeekDay</th>\n",
       "    </tr>\n",
       "  </thead>\n",
       "  <tbody>\n",
       "    <tr>\n",
       "      <th>0</th>\n",
       "      <td>1</td>\n",
       "      <td>2016-04-29</td>\n",
       "      <td>62</td>\n",
       "      <td>JARDIM DA PENHA</td>\n",
       "      <td>0</td>\n",
       "      <td>1</td>\n",
       "      <td>0</td>\n",
       "      <td>0</td>\n",
       "      <td>0</td>\n",
       "      <td>0</td>\n",
       "      <td>0</td>\n",
       "      <td>4</td>\n",
       "      <td>4</td>\n",
       "    </tr>\n",
       "    <tr>\n",
       "      <th>1</th>\n",
       "      <td>0</td>\n",
       "      <td>2016-04-29</td>\n",
       "      <td>56</td>\n",
       "      <td>JARDIM DA PENHA</td>\n",
       "      <td>0</td>\n",
       "      <td>0</td>\n",
       "      <td>0</td>\n",
       "      <td>0</td>\n",
       "      <td>0</td>\n",
       "      <td>0</td>\n",
       "      <td>0</td>\n",
       "      <td>4</td>\n",
       "      <td>4</td>\n",
       "    </tr>\n",
       "    <tr>\n",
       "      <th>2</th>\n",
       "      <td>1</td>\n",
       "      <td>2016-04-29</td>\n",
       "      <td>62</td>\n",
       "      <td>MATA DA PRAIA</td>\n",
       "      <td>0</td>\n",
       "      <td>0</td>\n",
       "      <td>0</td>\n",
       "      <td>0</td>\n",
       "      <td>0</td>\n",
       "      <td>0</td>\n",
       "      <td>0</td>\n",
       "      <td>4</td>\n",
       "      <td>4</td>\n",
       "    </tr>\n",
       "    <tr>\n",
       "      <th>3</th>\n",
       "      <td>1</td>\n",
       "      <td>2016-04-29</td>\n",
       "      <td>8</td>\n",
       "      <td>PONTAL DE CAMBURI</td>\n",
       "      <td>0</td>\n",
       "      <td>0</td>\n",
       "      <td>0</td>\n",
       "      <td>0</td>\n",
       "      <td>0</td>\n",
       "      <td>0</td>\n",
       "      <td>0</td>\n",
       "      <td>4</td>\n",
       "      <td>4</td>\n",
       "    </tr>\n",
       "    <tr>\n",
       "      <th>4</th>\n",
       "      <td>1</td>\n",
       "      <td>2016-04-29</td>\n",
       "      <td>56</td>\n",
       "      <td>JARDIM DA PENHA</td>\n",
       "      <td>0</td>\n",
       "      <td>1</td>\n",
       "      <td>1</td>\n",
       "      <td>0</td>\n",
       "      <td>0</td>\n",
       "      <td>0</td>\n",
       "      <td>0</td>\n",
       "      <td>4</td>\n",
       "      <td>4</td>\n",
       "    </tr>\n",
       "  </tbody>\n",
       "</table>\n",
       "</div>"
      ],
      "text/plain": [
       "   Gender AppointmentDay  Age      Neighbourhood  Scholarship  Hipertension  \\\n",
       "0       1     2016-04-29   62    JARDIM DA PENHA            0             1   \n",
       "1       0     2016-04-29   56    JARDIM DA PENHA            0             0   \n",
       "2       1     2016-04-29   62      MATA DA PRAIA            0             0   \n",
       "3       1     2016-04-29    8  PONTAL DE CAMBURI            0             0   \n",
       "4       1     2016-04-29   56    JARDIM DA PENHA            0             1   \n",
       "\n",
       "   Diabetes  Alcoholism  Handcap  SMS_received  No_show  Month  WeekDay  \n",
       "0         0           0        0             0        0      4        4  \n",
       "1         0           0        0             0        0      4        4  \n",
       "2         0           0        0             0        0      4        4  \n",
       "3         0           0        0             0        0      4        4  \n",
       "4         1           0        0             0        0      4        4  "
      ]
     },
     "execution_count": 13,
     "metadata": {},
     "output_type": "execute_result"
    }
   ],
   "source": [
    "df.rename(columns={'No-show': 'No_show'}, inplace=True)\n",
    "df.No_show.replace(['Yes', 'No'], [1, 0], inplace=True)\n",
    "df.Gender.replace(['F', 'M'], [1, 0], inplace = True)\n",
    "df.head(5)"
   ]
  },
  {
   "cell_type": "markdown",
   "metadata": {},
   "source": [
    "<a id='eda'></a>\n",
    "## Exploratory Data Analysis\n",
    "\n",
    "\n",
    "\n",
    "### What factors affect the ability to keep an appointment?"
   ]
  },
  {
   "cell_type": "markdown",
   "metadata": {},
   "source": [
    "A quick look at the visual data by column does not show anything unusual."
   ]
  },
  {
   "cell_type": "code",
   "execution_count": 14,
   "metadata": {},
   "outputs": [
    {
     "data": {
      "image/png": "[encoded data removed]",
      "text/plain": [
       "<matplotlib.figure.Figure at 0x7f1d53183d68>"
      ]
     },
     "metadata": {
      "needs_background": "light"
     },
     "output_type": "display_data"
    }
   ],
   "source": [
    "df.hist(figsize = (10, 13));"
   ]
  },
  {
   "cell_type": "markdown",
   "metadata": {},
   "source": [
    "Calcualting correlation across the data shows weak correlations between all data points except for SMS_received and No_show. This correlation is moderate."
   ]
  },
  {
   "cell_type": "code",
   "execution_count": 15,
   "metadata": {},
   "outputs": [],
   "source": [
    "show = df.No_show == 0\n",
    "no_show = df.No_show == 1"
   ]
  },
  {
   "cell_type": "code",
   "execution_count": 16,
   "metadata": {},
   "outputs": [
    {
     "data": {
      "text/html": [
       "<div>\n",
       "<style>\n",
       "    .dataframe thead tr:only-child th {\n",
       "        text-align: right;\n",
       "    }\n",
       "\n",
       "    .dataframe thead th {\n",
       "        text-align: left;\n",
       "    }\n",
       "\n",
       "    .dataframe tbody tr th {\n",
       "        vertical-align: top;\n",
       "    }\n",
       "</style>\n",
       "<table border=\"1\" class=\"dataframe\">\n",
       "  <thead>\n",
       "    <tr style=\"text-align: right;\">\n",
       "      <th></th>\n",
       "      <th>Gender</th>\n",
       "      <th>Age</th>\n",
       "      <th>Scholarship</th>\n",
       "      <th>Hipertension</th>\n",
       "      <th>Diabetes</th>\n",
       "      <th>Alcoholism</th>\n",
       "      <th>Handcap</th>\n",
       "      <th>SMS_received</th>\n",
       "      <th>No_show</th>\n",
       "      <th>Month</th>\n",
       "      <th>WeekDay</th>\n",
       "    </tr>\n",
       "  </thead>\n",
       "  <tbody>\n",
       "    <tr>\n",
       "      <th>Gender</th>\n",
       "      <td>1.000000</td>\n",
       "      <td>0.106440</td>\n",
       "      <td>0.114293</td>\n",
       "      <td>0.055718</td>\n",
       "      <td>0.032554</td>\n",
       "      <td>-0.106167</td>\n",
       "      <td>-0.022814</td>\n",
       "      <td>0.046298</td>\n",
       "      <td>0.004119</td>\n",
       "      <td>0.006051</td>\n",
       "      <td>-0.003916</td>\n",
       "    </tr>\n",
       "    <tr>\n",
       "      <th>Age</th>\n",
       "      <td>0.106440</td>\n",
       "      <td>1.000000</td>\n",
       "      <td>-0.092457</td>\n",
       "      <td>0.504586</td>\n",
       "      <td>0.292391</td>\n",
       "      <td>0.095811</td>\n",
       "      <td>0.078033</td>\n",
       "      <td>0.012643</td>\n",
       "      <td>-0.060319</td>\n",
       "      <td>0.014547</td>\n",
       "      <td>0.003088</td>\n",
       "    </tr>\n",
       "    <tr>\n",
       "      <th>Scholarship</th>\n",
       "      <td>0.114293</td>\n",
       "      <td>-0.092457</td>\n",
       "      <td>1.000000</td>\n",
       "      <td>-0.019729</td>\n",
       "      <td>-0.024894</td>\n",
       "      <td>0.035022</td>\n",
       "      <td>-0.008586</td>\n",
       "      <td>0.001194</td>\n",
       "      <td>0.029135</td>\n",
       "      <td>-0.002588</td>\n",
       "      <td>-0.000673</td>\n",
       "    </tr>\n",
       "    <tr>\n",
       "      <th>Hipertension</th>\n",
       "      <td>0.055718</td>\n",
       "      <td>0.504586</td>\n",
       "      <td>-0.019729</td>\n",
       "      <td>1.000000</td>\n",
       "      <td>0.433086</td>\n",
       "      <td>0.087971</td>\n",
       "      <td>0.080083</td>\n",
       "      <td>-0.006267</td>\n",
       "      <td>-0.035701</td>\n",
       "      <td>0.003779</td>\n",
       "      <td>0.003455</td>\n",
       "    </tr>\n",
       "    <tr>\n",
       "      <th>Diabetes</th>\n",
       "      <td>0.032554</td>\n",
       "      <td>0.292391</td>\n",
       "      <td>-0.024894</td>\n",
       "      <td>0.433086</td>\n",
       "      <td>1.000000</td>\n",
       "      <td>0.018474</td>\n",
       "      <td>0.057530</td>\n",
       "      <td>-0.014550</td>\n",
       "      <td>-0.015180</td>\n",
       "      <td>0.003741</td>\n",
       "      <td>0.006614</td>\n",
       "    </tr>\n",
       "    <tr>\n",
       "      <th>Alcoholism</th>\n",
       "      <td>-0.106167</td>\n",
       "      <td>0.095811</td>\n",
       "      <td>0.035022</td>\n",
       "      <td>0.087971</td>\n",
       "      <td>0.018474</td>\n",
       "      <td>1.000000</td>\n",
       "      <td>0.004648</td>\n",
       "      <td>-0.026147</td>\n",
       "      <td>-0.000196</td>\n",
       "      <td>0.003920</td>\n",
       "      <td>0.002701</td>\n",
       "    </tr>\n",
       "    <tr>\n",
       "      <th>Handcap</th>\n",
       "      <td>-0.022814</td>\n",
       "      <td>0.078033</td>\n",
       "      <td>-0.008586</td>\n",
       "      <td>0.080083</td>\n",
       "      <td>0.057530</td>\n",
       "      <td>0.004648</td>\n",
       "      <td>1.000000</td>\n",
       "      <td>-0.024161</td>\n",
       "      <td>-0.006076</td>\n",
       "      <td>-0.001479</td>\n",
       "      <td>0.004352</td>\n",
       "    </tr>\n",
       "    <tr>\n",
       "      <th>SMS_received</th>\n",
       "      <td>0.046298</td>\n",
       "      <td>0.012643</td>\n",
       "      <td>0.001194</td>\n",
       "      <td>-0.006267</td>\n",
       "      <td>-0.014550</td>\n",
       "      <td>-0.026147</td>\n",
       "      <td>-0.024161</td>\n",
       "      <td>1.000000</td>\n",
       "      <td>0.126431</td>\n",
       "      <td>0.108070</td>\n",
       "      <td>-0.089858</td>\n",
       "    </tr>\n",
       "    <tr>\n",
       "      <th>No_show</th>\n",
       "      <td>0.004119</td>\n",
       "      <td>-0.060319</td>\n",
       "      <td>0.029135</td>\n",
       "      <td>-0.035701</td>\n",
       "      <td>-0.015180</td>\n",
       "      <td>-0.000196</td>\n",
       "      <td>-0.006076</td>\n",
       "      <td>0.126431</td>\n",
       "      <td>1.000000</td>\n",
       "      <td>-0.020886</td>\n",
       "      <td>0.001165</td>\n",
       "    </tr>\n",
       "    <tr>\n",
       "      <th>Month</th>\n",
       "      <td>0.006051</td>\n",
       "      <td>0.014547</td>\n",
       "      <td>-0.002588</td>\n",
       "      <td>0.003779</td>\n",
       "      <td>0.003741</td>\n",
       "      <td>0.003920</td>\n",
       "      <td>-0.001479</td>\n",
       "      <td>0.108070</td>\n",
       "      <td>-0.020886</td>\n",
       "      <td>1.000000</td>\n",
       "      <td>-0.062496</td>\n",
       "    </tr>\n",
       "    <tr>\n",
       "      <th>WeekDay</th>\n",
       "      <td>-0.003916</td>\n",
       "      <td>0.003088</td>\n",
       "      <td>-0.000673</td>\n",
       "      <td>0.003455</td>\n",
       "      <td>0.006614</td>\n",
       "      <td>0.002701</td>\n",
       "      <td>0.004352</td>\n",
       "      <td>-0.089858</td>\n",
       "      <td>0.001165</td>\n",
       "      <td>-0.062496</td>\n",
       "      <td>1.000000</td>\n",
       "    </tr>\n",
       "  </tbody>\n",
       "</table>\n",
       "</div>"
      ],
      "text/plain": [
       "                Gender       Age  Scholarship  Hipertension  Diabetes  \\\n",
       "Gender        1.000000  0.106440     0.114293      0.055718  0.032554   \n",
       "Age           0.106440  1.000000    -0.092457      0.504586  0.292391   \n",
       "Scholarship   0.114293 -0.092457     1.000000     -0.019729 -0.024894   \n",
       "Hipertension  0.055718  0.504586    -0.019729      1.000000  0.433086   \n",
       "Diabetes      0.032554  0.292391    -0.024894      0.433086  1.000000   \n",
       "Alcoholism   -0.106167  0.095811     0.035022      0.087971  0.018474   \n",
       "Handcap      -0.022814  0.078033    -0.008586      0.080083  0.057530   \n",
       "SMS_received  0.046298  0.012643     0.001194     -0.006267 -0.014550   \n",
       "No_show       0.004119 -0.060319     0.029135     -0.035701 -0.015180   \n",
       "Month         0.006051  0.014547    -0.002588      0.003779  0.003741   \n",
       "WeekDay      -0.003916  0.003088    -0.000673      0.003455  0.006614   \n",
       "\n",
       "              Alcoholism   Handcap  SMS_received   No_show     Month   WeekDay  \n",
       "Gender         -0.106167 -0.022814      0.046298  0.004119  0.006051 -0.003916  \n",
       "Age             0.095811  0.078033      0.012643 -0.060319  0.014547  0.003088  \n",
       "Scholarship     0.035022 -0.008586      0.001194  0.029135 -0.002588 -0.000673  \n",
       "Hipertension    0.087971  0.080083     -0.006267 -0.035701  0.003779  0.003455  \n",
       "Diabetes        0.018474  0.057530     -0.014550 -0.015180  0.003741  0.006614  \n",
       "Alcoholism      1.000000  0.004648     -0.026147 -0.000196  0.003920  0.002701  \n",
       "Handcap         0.004648  1.000000     -0.024161 -0.006076 -0.001479  0.004352  \n",
       "SMS_received   -0.026147 -0.024161      1.000000  0.126431  0.108070 -0.089858  \n",
       "No_show        -0.000196 -0.006076      0.126431  1.000000 -0.020886  0.001165  \n",
       "Month           0.003920 -0.001479      0.108070 -0.020886  1.000000 -0.062496  \n",
       "WeekDay         0.002701  0.004352     -0.089858  0.001165 -0.062496  1.000000  "
      ]
     },
     "execution_count": 16,
     "metadata": {},
     "output_type": "execute_result"
    }
   ],
   "source": [
    "df.corr()"
   ]
  },
  {
   "cell_type": "markdown",
   "metadata": {},
   "source": [
    "Looking at the correlations between No-show appointments and all of the types of observations resulted in the following:\n",
    "There is a 20% rate of no-show appointments across all appointments. The percentage of appointments missed by females and those missed by males was the same, with females missing 20.31% of all appointments scheduled by women and males missing 19.97% of all appointments scheduled by males. This includes patients at all ages."
   ]
  },
  {
   "cell_type": "code",
   "execution_count": 17,
   "metadata": {},
   "outputs": [
    {
     "data": {
      "text/plain": [
       "0    88208\n",
       "1    22319\n",
       "Name: No_show, dtype: int64"
      ]
     },
     "execution_count": 17,
     "metadata": {},
     "output_type": "execute_result"
    }
   ],
   "source": [
    "df.No_show.value_counts()"
   ]
  },
  {
   "cell_type": "code",
   "execution_count": 18,
   "metadata": {},
   "outputs": [
    {
     "data": {
      "text/plain": [
       "20.193255946510806"
      ]
     },
     "execution_count": 18,
     "metadata": {},
     "output_type": "execute_result"
    }
   ],
   "source": [
    "df.No_show[no_show].count() / df.No_show.count() * 100"
   ]
  },
  {
   "cell_type": "code",
   "execution_count": 19,
   "metadata": {},
   "outputs": [
    {
     "data": {
      "text/plain": [
       "1    71840\n",
       "0    38687\n",
       "Name: Gender, dtype: int64"
      ]
     },
     "execution_count": 19,
     "metadata": {},
     "output_type": "execute_result"
    }
   ],
   "source": [
    "df.Gender.value_counts()"
   ]
  },
  {
   "cell_type": "code",
   "execution_count": 20,
   "metadata": {},
   "outputs": [
    {
     "data": {
      "image/png": "[encoded data removed]",
      "text/plain": [
       "<matplotlib.figure.Figure at 0x7f1d5245f710>"
      ]
     },
     "metadata": {
      "needs_background": "light"
     },
     "output_type": "display_data"
    }
   ],
   "source": [
    "df.Gender[show].hist(alpha = 0.5, label = 'Show')\n",
    "df.Gender[no_show].hist(alpha = 0.5,label = 'No-Show')\n",
    "plt.legend();"
   ]
  },
  {
   "cell_type": "code",
   "execution_count": 21,
   "metadata": {},
   "outputs": [],
   "source": [
    "male = df.Gender == 0\n",
    "female = df.Gender == 1"
   ]
  },
  {
   "cell_type": "code",
   "execution_count": 23,
   "metadata": {},
   "outputs": [
    {
     "data": {
      "text/plain": [
       "1    14594\n",
       "0     7725\n",
       "Name: Gender, dtype: int64"
      ]
     },
     "execution_count": 23,
     "metadata": {},
     "output_type": "execute_result"
    }
   ],
   "source": [
    "df.Gender[no_show].value_counts()"
   ]
  },
  {
   "cell_type": "code",
   "execution_count": 26,
   "metadata": {},
   "outputs": [
    {
     "data": {
      "text/plain": [
       "0.20314587973273943"
      ]
     },
     "execution_count": 26,
     "metadata": {},
     "output_type": "execute_result"
    }
   ],
   "source": [
    "female_no_show = 14594/71840\n",
    "female_no_show"
   ]
  },
  {
   "cell_type": "code",
   "execution_count": 27,
   "metadata": {},
   "outputs": [
    {
     "data": {
      "text/plain": [
       "0.19967947889471915"
      ]
     },
     "execution_count": 27,
     "metadata": {},
     "output_type": "execute_result"
    }
   ],
   "source": [
    "male_no_show = 7725/38687\n",
    "male_no_show"
   ]
  },
  {
   "cell_type": "code",
   "execution_count": 28,
   "metadata": {},
   "outputs": [
    {
     "data": {
      "text/plain": [
       "1    13.204013\n",
       "0     6.989242\n",
       "Name: Gender, dtype: float64"
      ]
     },
     "execution_count": 28,
     "metadata": {},
     "output_type": "execute_result"
    }
   ],
   "source": [
    "df.Gender[no_show].value_counts() / df.Gender.count() * 100"
   ]
  },
  {
   "cell_type": "markdown",
   "metadata": {},
   "source": [
    "A graph of the age data shows that most missed appointments are for ages birth through about 30-years-old, where the no-show rate begins to taper slightly. There is another drop in missed appointments at age 50 and a significant drop about age 65. This could account for the increase in medical issues with age or a more serious approach to health with aging. Additionally, younger adults have more responsibilities and less personal time, possibly accounting for some of the no-show appointments. "
   ]
  },
  {
   "cell_type": "code",
   "execution_count": 30,
   "metadata": {},
   "outputs": [
    {
     "data": {
      "image/png": "[encoded data removed]",
      "text/plain": [
       "<matplotlib.figure.Figure at 0x7f1d518a0780>"
      ]
     },
     "metadata": {
      "needs_background": "light"
     },
     "output_type": "display_data"
    }
   ],
   "source": [
    "df.Age[show].hist(alpha = 0.5, bins = 7, label = 'Show')\n",
    "df.Age[no_show].hist(alpha = 0.5, bins = 7, label = 'No-Show')\n",
    "plt.legend();"
   ]
  },
  {
   "cell_type": "markdown",
   "metadata": {},
   "source": [
    "The percentages of no-show appointments for patients with serious chronic medical conditions such as alcoholism, diabetes, and handicaps is low, although diabetic patients account for a more than 6% rate of missed appointments. Patients with hypertension miss appointments at a rate of 16.9%. This could possibly be explained by the rate of hypertension in the population. Patients on 'scholarship' miss about 11.5% of their appointments. Economic factors such as inability to pay, inability to leave work, or lack of transportation may explain a portion of these missed appointments.\n",
    "\n",
    "A quick look at the locations of the appointments indicate that location may play a part in patients missing appointments. However, there is not sufficient data to research a trend. "
   ]
  },
  {
   "cell_type": "code",
   "execution_count": 31,
   "metadata": {
    "scrolled": true
   },
   "outputs": [
    {
     "data": {
      "text/plain": [
       "0    96.96671\n",
       "1     3.03329\n",
       "Name: Alcoholism, dtype: float64"
      ]
     },
     "execution_count": 31,
     "metadata": {},
     "output_type": "execute_result"
    }
   ],
   "source": [
    "df.Alcoholism[no_show].value_counts() / df.Alcoholism[no_show].count() * 100"
   ]
  },
  {
   "cell_type": "code",
   "execution_count": 32,
   "metadata": {},
   "outputs": [
    {
     "data": {
      "text/plain": [
       "0    93.592903\n",
       "1     6.407097\n",
       "Name: Diabetes, dtype: float64"
      ]
     },
     "execution_count": 32,
     "metadata": {},
     "output_type": "execute_result"
    }
   ],
   "source": [
    "df.Diabetes[no_show].value_counts() / df.Diabetes[no_show].count() * 100"
   ]
  },
  {
   "cell_type": "code",
   "execution_count": 33,
   "metadata": {},
   "outputs": [
    {
     "data": {
      "text/plain": [
       "0    88.449303\n",
       "1    11.550697\n",
       "Name: Scholarship, dtype: float64"
      ]
     },
     "execution_count": 33,
     "metadata": {},
     "output_type": "execute_result"
    }
   ],
   "source": [
    "df.Scholarship[no_show].value_counts() / df.Scholarship[no_show].count() * 100"
   ]
  },
  {
   "cell_type": "code",
   "execution_count": 34,
   "metadata": {
    "scrolled": true
   },
   "outputs": [
    {
     "data": {
      "text/plain": [
       "Neighbourhood        No_show\n",
       "AEROPORTO            0             7\n",
       "                     1             1\n",
       "ANDORINHAS           0          1741\n",
       "                     1           521\n",
       "ANTÔNIO HONÓRIO      0           221\n",
       "                     1            50\n",
       "ARIOVALDO FAVALESSA  0           220\n",
       "                     1            62\n",
       "BARRO VERMELHO       0           332\n",
       "                     1            91\n",
       "BELA VISTA           0          1523\n",
       "                     1           384\n",
       "BENTO FERREIRA       0           665\n",
       "                     1           193\n",
       "BOA VISTA            0           254\n",
       "                     1            58\n",
       "BONFIM               0          2223\n",
       "                     1           550\n",
       "CARATOÍRA            0          1974\n",
       "                     1           591\n",
       "CENTRO               0          2631\n",
       "                     1           703\n",
       "COMDUSA              0           254\n",
       "                     1            56\n",
       "CONQUISTA            0           689\n",
       "                     1           160\n",
       "CONSOLAÇÃO           0          1139\n",
       "                     1           237\n",
       "CRUZAMENTO           0          1094\n",
       "                     1           304\n",
       "                                ... \n",
       "SANTA MARTHA         0          2635\n",
       "                     1           496\n",
       "SANTA TEREZA         0          1060\n",
       "                     1           272\n",
       "SANTO ANDRÉ          0          2063\n",
       "                     1           508\n",
       "SANTO ANTÔNIO        0          2262\n",
       "                     1           484\n",
       "SANTOS DUMONT        0           907\n",
       "                     1           369\n",
       "SANTOS REIS          0           435\n",
       "                     1           112\n",
       "SEGURANÇA DO LAR     0           117\n",
       "                     1            28\n",
       "SOLON BORGES         0           400\n",
       "                     1            69\n",
       "SÃO BENEDITO         0          1152\n",
       "                     1           287\n",
       "SÃO CRISTÓVÃO        0          1473\n",
       "                     1           363\n",
       "SÃO JOSÉ             0          1549\n",
       "                     1           428\n",
       "SÃO PEDRO            0          1933\n",
       "                     1           515\n",
       "TABUAZEIRO           0          2559\n",
       "                     1           573\n",
       "UNIVERSITÁRIO        0           120\n",
       "                     1            32\n",
       "VILA RUBIM           0           710\n",
       "                     1           141\n",
       "Name: No_show, Length: 160, dtype: int64"
      ]
     },
     "execution_count": 34,
     "metadata": {},
     "output_type": "execute_result"
    }
   ],
   "source": [
    "df.groupby('Neighbourhood')['No_show'].value_counts()"
   ]
  },
  {
   "cell_type": "code",
   "execution_count": 35,
   "metadata": {},
   "outputs": [
    {
     "data": {
      "text/plain": [
       "0    83.099601\n",
       "1    16.900399\n",
       "Name: Hipertension, dtype: float64"
      ]
     },
     "execution_count": 35,
     "metadata": {},
     "output_type": "execute_result"
    }
   ],
   "source": [
    "df.Hipertension[no_show].value_counts() / df.Hipertension[no_show].count() * 100"
   ]
  },
  {
   "cell_type": "code",
   "execution_count": 36,
   "metadata": {},
   "outputs": [
    {
     "data": {
      "text/plain": [
       "0    98.176442\n",
       "1     1.639858\n",
       "2     0.165778\n",
       "3     0.013441\n",
       "4     0.004480\n",
       "Name: Handcap, dtype: float64"
      ]
     },
     "execution_count": 36,
     "metadata": {},
     "output_type": "execute_result"
    }
   ],
   "source": [
    "df.Handcap[no_show].value_counts() / df.Handcap[no_show].count() * 100"
   ]
  },
  {
   "cell_type": "markdown",
   "metadata": {},
   "source": [
    "The most unexpected value in the dataset is the 43.8% of missed appointments for patients who received a text message. Healthcare providers are increasingly using these types of messages to remind patients of their appointments, often multiple times prior to the date of service. \n",
    "\n",
    "The data from the date of appointment is as expected, with appointments missed mostly on Mondays, Tuesdays, and Sundays, respectively. The data for the month of service is calculated. However, because appointment data was only reported for three months of the year, a conclusion cannot be drawn from it.  "
   ]
  },
  {
   "cell_type": "code",
   "execution_count": 37,
   "metadata": {},
   "outputs": [
    {
     "data": {
      "text/plain": [
       "0    56.162911\n",
       "1    43.837089\n",
       "Name: SMS_received, dtype: float64"
      ]
     },
     "execution_count": 37,
     "metadata": {},
     "output_type": "execute_result"
    }
   ],
   "source": [
    "df.SMS_received[no_show].value_counts() / df.SMS_received[no_show].count() * 100"
   ]
  },
  {
   "cell_type": "code",
   "execution_count": 38,
   "metadata": {},
   "outputs": [
    {
     "data": {
      "text/plain": [
       "0    75045\n",
       "1    35482\n",
       "Name: SMS_received, dtype: int64"
      ]
     },
     "execution_count": 38,
     "metadata": {},
     "output_type": "execute_result"
    }
   ],
   "source": [
    "df.SMS_received.value_counts()"
   ]
  },
  {
   "cell_type": "code",
   "execution_count": 39,
   "metadata": {},
   "outputs": [
    {
     "data": {
      "text/plain": [
       "5    75.290112\n",
       "6    21.873740\n",
       "4     2.836149\n",
       "Name: Month, dtype: float64"
      ]
     },
     "execution_count": 39,
     "metadata": {},
     "output_type": "execute_result"
    }
   ],
   "source": [
    "df.Month[no_show].value_counts() / df.Month[no_show].count() * 100"
   ]
  },
  {
   "cell_type": "code",
   "execution_count": 40,
   "metadata": {},
   "outputs": [
    {
     "data": {
      "text/plain": [
       "5    80841\n",
       "6    26451\n",
       "4     3235\n",
       "Name: Month, dtype: int64"
      ]
     },
     "execution_count": 40,
     "metadata": {},
     "output_type": "execute_result"
    }
   ],
   "source": [
    "df.Month.value_counts()"
   ]
  },
  {
   "cell_type": "code",
   "execution_count": 41,
   "metadata": {
    "scrolled": true
   },
   "outputs": [
    {
     "data": {
      "text/plain": [
       "1    23.083471\n",
       "2    22.819123\n",
       "0    21.013486\n",
       "4    18.087728\n",
       "3    14.955867\n",
       "5     0.040324\n",
       "Name: WeekDay, dtype: float64"
      ]
     },
     "execution_count": 41,
     "metadata": {},
     "output_type": "execute_result"
    }
   ],
   "source": [
    "df.WeekDay[no_show].value_counts() / df.WeekDay[no_show].count() * 100"
   ]
  },
  {
   "cell_type": "markdown",
   "metadata": {},
   "source": [
    "<a id='conclusions'></a>\n",
    "## Conclusions\n",
    "\n",
    "A comprehensive look at the data included in this dataset indicates that the factors most affecting patient compliance with appointments are age, income level, and day of the week. Inititially, it appeared that gender was a significant factor in whether or not patients kept their appointments because of the greater number of appointments missed by females over males. A closer look at the data shows that females and males miss appointments at about the same rate (20.31% and 19.97%), but that females schedule a greater number of appointments.\n",
    "\n",
    "Patients with serious chronic health problems are not very likely to miss appointments. However, more than 10% of low-income patients miss appointments.\n",
    "\n",
    "Most missed appointments, around 67%, are missed at the beginning of the week. And, text message reminders have around a 56% success rate of ensuring a patient makes it to an appointment.\n",
    "\n",
    "While this analysis of missed appointment data is limited in scope, it offers some information regarding where improvements can be made in health services. Initiatives could include offering appointments in different locations, offering services at lower cost in some areas, and encouraging employers to allow paid personal time for health appointments.\n",
    "\n"
   ]
  },
  {
   "cell_type": "code",
   "execution_count": 45,
   "metadata": {},
   "outputs": [
    {
     "data": {
      "text/plain": [
       "0"
      ]
     },
     "execution_count": 45,
     "metadata": {},
     "output_type": "execute_result"
    }
   ],
   "source": [
    "from subprocess import call\n",
    "call(['python', '-m', 'nbconvert', 'Investigate_a_Dataset.ipynb'])"
   ]
  },
  {
   "cell_type": "markdown",
   "metadata": {},
   "source": [
    "Resources used or viewed:\n",
    "Course materials\n",
    "\n",
    "Stack Overflow\n",
    "\n",
    "Python/Numpy/Pandas/Matplotlib Libraries\n",
    "\n",
    "Safari Matplotlib Cookbook\n",
    "\n",
    "NIH study on missed appointments for reference and background.\n",
    "\n",
    "Information on Kaggle regarding dataset."
   ]
  },
  {
   "cell_type": "code",
   "execution_count": null,
   "metadata": {},
   "outputs": [],
   "source": []
  }
 ],
 "metadata": {
  "kernelspec": {
   "display_name": "Python 3",
   "language": "python",
   "name": "python3"
  },
  "language_info": {
   "codemirror_mode": {
    "name": "ipython",
    "version": 3
   },
   "file_extension": ".py",
   "mimetype": "text/x-python",
   "name": "python",
   "nbconvert_exporter": "python",
   "pygments_lexer": "ipython3",
   "version": "3.6.3"
  }
 },
 "nbformat": 4,
 "nbformat_minor": 2
}
